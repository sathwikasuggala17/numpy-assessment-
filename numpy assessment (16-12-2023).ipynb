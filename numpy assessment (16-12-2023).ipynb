{
 "cells": [
  {
   "cell_type": "markdown",
   "id": "cb595172",
   "metadata": {},
   "source": [
    "#### The assessment questions are designed in such a way where the user will use NumPy functions and create a python function(def) to solve each question.\n",
    "#### 1)  1. Write a function, foo_1, that takes a NumPy array `arr` and returns the indices of the elements that are closest to a given target. If target is not in the given array, it should return ‘no item found’"
   ]
  },
  {
   "cell_type": "code",
   "execution_count": 1,
   "id": "f38b5959",
   "metadata": {},
   "outputs": [],
   "source": [
    "import numpy as np"
   ]
  },
  {
   "cell_type": "code",
   "execution_count": 2,
   "id": "38ffd64d",
   "metadata": {},
   "outputs": [],
   "source": [
    "def foo_1(arr, target):\n",
    "   \n",
    "    if target not in arr:\n",
    "        return 'no item found'\n",
    "    \n",
    "    differences = np.abs(arr - target)\n",
    "    closest_indices = np.argsort(differences)\n",
    "    return closest_indices"
   ]
  },
  {
   "cell_type": "code",
   "execution_count": 3,
   "id": "04ba084c",
   "metadata": {},
   "outputs": [
    {
     "name": "stdout",
     "output_type": "stream",
     "text": [
      "[2 3 4 5 6 8 1 7 9 0]\n"
     ]
    }
   ],
   "source": [
    "# Example - 1:\n",
    "arr1 = np.array([3, 8, 7, 7, 7, 7, 7, 8, 7, 10])\n",
    "target1 = 7\n",
    "result1 = foo_1(arr1, target1)\n",
    "print(result1)"
   ]
  },
  {
   "cell_type": "code",
   "execution_count": 4,
   "id": "cb599d78",
   "metadata": {},
   "outputs": [
    {
     "name": "stdout",
     "output_type": "stream",
     "text": [
      "no item found\n"
     ]
    }
   ],
   "source": [
    "# Example - 2:\n",
    "arr2 = np.array([3, 8, 7, 7, 7, 7, 7, 8, 7, 10])\n",
    "target2 = 11\n",
    "result2 = foo_1(arr2, target2)\n",
    "print(result2)"
   ]
  },
  {
   "cell_type": "markdown",
   "id": "ef1ada43",
   "metadata": {},
   "source": [
    "#### explaination\n",
    "* step - 1  firstly, Check if target is in the array if not it returns 'no item found'\n",
    "* step - 2  if target is present Calculate the absolute differences between each element and the target\n",
    "* step - 3  then find the indices of the minimum differences by using the 'np.argsort'\n",
    "* step - 4 The result is an array of indices indicating the positions of elements closest to the target."
   ]
  },
  {
   "cell_type": "markdown",
   "id": "df9dd79e",
   "metadata": {},
   "source": [
    "#### 2) Write a user defined function foo_2 that takes a  2,3 dim NumPy array arr and returns a new n-1 dim array, where each element is replaced by the count of non-zero elements wrt axis."
   ]
  },
  {
   "cell_type": "code",
   "execution_count": 5,
   "id": "05342f48",
   "metadata": {},
   "outputs": [],
   "source": [
    "def foo_2(arr, axis):\n",
    "    if arr.ndim not in [2, 3]:\n",
    "        raise ValueError(\"Input array must be 2D or 3D\")\n",
    "\n",
    "    count_nonzero = np.count_nonzero(arr, axis=axis)\n",
    "    \n",
    "    if axis == 0:\n",
    "        return count_nonzero\n",
    "    elif axis == 1:\n",
    "        return count_nonzero\n",
    "    elif axis == 2 and arr.ndim == 3:\n",
    "        return count_nonzero\n",
    "    else:\n",
    "        raise ValueError(\"Invalid axis value for the given array\")"
   ]
  },
  {
   "cell_type": "code",
   "execution_count": 6,
   "id": "74da7748",
   "metadata": {},
   "outputs": [
    {
     "name": "stdout",
     "output_type": "stream",
     "text": [
      "Output for axis=0: [2 2 2 1]\n",
      "Output for axis=1: [4 1 2]\n"
     ]
    }
   ],
   "source": [
    "# By Using Example-1:\n",
    "arr = np.array([[1, 2, 3, 4],\n",
    "                [0, 5, 0, 0],\n",
    "                [2, 0, 1, 0]])\n",
    "\n",
    "# Test cases-1\n",
    "output_axis_0 = foo_2(arr, axis=0)\n",
    "print(\"Output for axis=0:\", output_axis_0)\n",
    "\n",
    "output_axis_1 = foo_2(arr, axis=1)\n",
    "print(\"Output for axis=1:\", output_axis_1)"
   ]
  },
  {
   "cell_type": "code",
   "execution_count": 7,
   "id": "158eb3a3",
   "metadata": {},
   "outputs": [
    {
     "name": "stdout",
     "output_type": "stream",
     "text": [
      "\n",
      "Output for axis=0 (for 3D array):\n",
      "[[2 1 2 1]\n",
      " [0 2 0 0]\n",
      " [2 1 2 1]]\n",
      "\n",
      "Output for axis=1 (for 3D array):\n",
      "[[2 2 2 1]\n",
      " [2 2 2 1]]\n",
      "\n",
      "Output for axis=2 (for 3D array):\n",
      "[[4 1 2]\n",
      " [2 1 4]]\n"
     ]
    }
   ],
   "source": [
    "# By Using Example-2:\n",
    "arr1 = np.array([[[1, 2, 3, 4],\n",
    "                  [0, 5, 0, 0],\n",
    "                  [2, 0, 1, 0]],\n",
    "                 [[2, 0, 1, 0],\n",
    "                  [0, 5, 0, 0],\n",
    "                  [1, 2, 3, 4]]])\n",
    "\n",
    "# Test cases-2\n",
    "output_axis_2 = foo_2(arr1, axis=0)\n",
    "print(\"\\nOutput for axis=0 (for 3D array):\")\n",
    "print(output_axis_2)\n",
    "\n",
    "output_axis_3 = foo_2(arr1, axis=1)\n",
    "print(\"\\nOutput for axis=1 (for 3D array):\")\n",
    "print(output_axis_3)\n",
    "\n",
    "output_axis_4 = foo_2(arr1, axis=2)\n",
    "print(\"\\nOutput for axis=2 (for 3D array):\")\n",
    "print(output_axis_4)"
   ]
  },
  {
   "cell_type": "markdown",
   "id": "7e3823c0",
   "metadata": {},
   "source": [
    "#### Explaination\n",
    "* step-1 This function takes a 2D or 3D NumPy array\n",
    "* step-2 taking an axis as input and returns a new array where each element is replaced by the count of non-zero elements along the specified axis. \n",
    "* step-3 The example demonstrates how to use the function with different axes and input arrays."
   ]
  },
  {
   "cell_type": "markdown",
   "id": "44527aa1",
   "metadata": {},
   "source": [
    "#### 3.3.1 You are given a 2D NumPy array of data representing student scores. Each row represents a student, and each column represents a subject. Extract the scores of all students who scored above 90 in at least one subject. Provide the resulting array."
   ]
  },
  {
   "cell_type": "code",
   "execution_count": 8,
   "id": "38bc60ec",
   "metadata": {},
   "outputs": [
    {
     "name": "stdout",
     "output_type": "stream",
     "text": [
      "[[78 89 94]\n",
      " [91 87 90]\n",
      " [87 95 84]]\n"
     ]
    }
   ],
   "source": [
    "data = np.array([[85, 89, 88],\n",
    "                 [78, 89, 94],\n",
    "                 [91, 87, 90],\n",
    "                 [87, 95, 84]])\n",
    "\n",
    "mask = np.any(data > 90, axis=1)\n",
    "\n",
    "result = data[mask]\n",
    "print(result)"
   ]
  },
  {
   "cell_type": "markdown",
   "id": "f6c0e2be",
   "metadata": {},
   "source": [
    "#### Explaination\n",
    "* step-1 defining the 2D array: creates a 2D NumPy array named data, where each row represents a student, and each column represents a subject. The array holds the scores of students in various subjects.\n",
    "* step-2 Create a Boolean Mask: Here, a boolean mask is created using the condition 'data > 90'. This condition generates a boolean array of the same shape as 'data', where each element is 'True' if the corresponding element in 'data' is greater than 90 and 'False' otherwise. The 'np.any(..., axis=1)' function is then applied along axis 1 (columns) to check if there is at least one 'True' value in each row. The result is a boolean array (mask) indicating whether each student scored above 90 in at least one subject.\n",
    "* step-3 Filtering the Data Using the Mask: The boolean mask, 'mask' is used to filter the rows of the original array 'data'. Only the rows (students) corresponding to 'True' values in the mask are included in the result.\n",
    "* step -4 Print the Result: Finally, the resulting array (scores of students who scored above 90 in at least one subject) is printed to the console.\n",
    "\n",
    ">In summary, the code efficiently extracts and prints the scores of students who scored above 90 in at least one subject using NumPy's boolean indexing and array manipulation capabilities."
   ]
  },
  {
   "cell_type": "markdown",
   "id": "f1396493",
   "metadata": {},
   "source": [
    "#### 3.3.2 You are provided with a 2D NumPy array of data representing sales data for different products. Each row corresponds to a product, and each column represents the monthly sales for a specific month. Calculate the following statistics for each product: mean, median, standard deviation, and the month with the highest sales."
   ]
  },
  {
   "cell_type": "code",
   "execution_count": 9,
   "id": "93bd113f",
   "metadata": {},
   "outputs": [
    {
     "name": "stdout",
     "output_type": "stream",
     "text": [
      "Product 1:\n",
      "  Mean: 127.5\n",
      "  Median: 125.0\n",
      "  Standard Deviation: 14.79019945774904\n",
      "  Month with the Highest Sales: Month 2\n",
      "\n",
      "Product 2:\n",
      "  Mean: 212.5\n",
      "  Median: 210.0\n",
      "  Standard Deviation: 25.8602010819715\n",
      "  Month with the Highest Sales: Month 4\n",
      "\n",
      "Product 3:\n",
      "  Mean: 98.75\n",
      "  Median: 97.5\n",
      "  Standard Deviation: 7.39509972887452\n",
      "  Month with the Highest Sales: Month 4\n",
      "\n",
      "Product 4:\n",
      "  Mean: 310.0\n",
      "  Median: 310.0\n",
      "  Standard Deviation: 22.360679774997898\n",
      "  Month with the Highest Sales: Month 4\n",
      "\n"
     ]
    }
   ],
   "source": [
    "data = np.array([[120, 150, 130, 110],\n",
    "                 [200, 180, 220, 250],\n",
    "                 [90, 100, 95, 110],\n",
    "                 [300, 280, 320, 340]])\n",
    "\n",
    "mean_values = np.mean(data, axis=1) # Calculate mean along axis 1 (columns)\n",
    "median_values = np.median(data, axis=1) # Calculate median along axis 1 (columns)\n",
    "std_dev_values = np.std(data, axis=1) # Calculate standard deviation along axis 1 (columns)\n",
    "\n",
    "max_month_indices = np.argmax(data, axis=1) # Finding the month with the highest sales along axis 1 (columns)\n",
    "max_sales_months = ['Month {}'.format(month + 1) for month in max_month_indices]\n",
    "\n",
    "# results\n",
    "for i in range(data.shape[0]):\n",
    "    print(f\"Product {i + 1}:\")\n",
    "    print(f\"  Mean: {mean_values[i]}\")\n",
    "    print(f\"  Median: {median_values[i]}\")\n",
    "    print(f\"  Standard Deviation: {std_dev_values[i]}\")\n",
    "    print(f\"  Month with the Highest Sales: {max_sales_months[i]}\")\n",
    "    print()"
   ]
  },
  {
   "cell_type": "markdown",
   "id": "b08b471e",
   "metadata": {},
   "source": [
    "#### Explaination\n",
    "* using NumPy functions to calculate the mean, median, standard deviation, and the month with the highest sales for each product.\n",
    "* axis=1 is used to perform the calculations along columns (monthly sales)\n",
    "* np.argmax is used to find the index of the maximum value along the specified axis (month with the highest sales). \n",
    "* The results are then printed for each product."
   ]
  },
  {
   "cell_type": "markdown",
   "id": "e564be6d",
   "metadata": {},
   "source": [
    "#### 3.3.3 Create a NumPy array of size 1000 with random integers between 1 and 100. Then, use NumPy functions to find the top 10 most frequently occurring values in the array."
   ]
  },
  {
   "cell_type": "code",
   "execution_count": 10,
   "id": "c9ad2d89",
   "metadata": {},
   "outputs": [
    {
     "name": "stdout",
     "output_type": "stream",
     "text": [
      "[ 11  97  64   5   7   5  40  87  58  61  12  33   9  43  35  37  12  95\n",
      "  87  69  18  10  15  73  26  25   5  18  27  22  64  93  64  45  81  63\n",
      "  81  17  69  10  64   2  29   7  84  35  49  51  42  33  58  65  35  59\n",
      "  54  41  14  78  22  52  71  95   6  13  22   7  66   5  48   7  55  40\n",
      "  87   3  10  65  67  74  23  21  33 100  92  85  21  58  44  86  19  89\n",
      "  33  62  33  98   9   3  80  41  80  77  58  33  85  43  73  76  15  48\n",
      "   3  93  81   6  88  16  86  67  73  51  47  71  64  81   5  23  35  76\n",
      "  61  87  23  15  76  14  51  27  51  55  93  72  75  80  57  42  26  54\n",
      "  42  77  35  24  93  97   7  91  57  26   4  69  65  31  78  52  29  80\n",
      "  70  60  12  58  18  90  50   9  72  55  43  10  45  68  11  68  75   2\n",
      "  52  41  94  48  75  26  40  91  85  35  61  50   7   7  22  86  98  11\n",
      "  85  30  73  25  53  21  85  19  56  51  56  13  83  17  84   3  41  69\n",
      "  51  30   9  52  45  27  71  90  84  76  83  77  74  69  12  27  87  34\n",
      "  23  92  30  80   9  84  92  17   4  55  33  46  54  55  46  88  16  44\n",
      "  67  42  87  12  16  74  67  32  53  74  35  63  40  16  44  66  77  65\n",
      "  31  10  92  37  33  43  69  23  97  58  11  86  72  55  34  41  69  88\n",
      "  98  50  48  43  35  27  84  55  80  47  63   7  36  76   1  19  29   1\n",
      "   3   5   1  20  40  40  78  30  48   2   3  37  81  95  74  80   6  91\n",
      "  82  64  69  39  37  70  54  39  17  13  64  72  12  36  21  62  85  64\n",
      "  48  44  88  12  23  90  43  23  20   8  91  82 100  73  82  32  99  80\n",
      "  33  14  73  98  18  46  21  36  22  23   8  68  62  52  45  53  13  54\n",
      "  22  63  38   5  77  42   8  78  25  95  55  55  78  52  73  96  20  64\n",
      " 100  53  49   2  87  53   1  90  12  67  71  51  88  53  77  46  61  67\n",
      "  93  32  62  59  35  78  19  15  20  99  70   3  81  23  48   1  46  42\n",
      "  97  87  33  96   6   6  68  73  31  50   1 100  54  19   9  92  90  57\n",
      "  49  59  56  41  64  86  58   8  19  84  77  75  22  17  43  66  95  16\n",
      "  43  88  48  59  57  14  50  21  90  99  79   4  99  26  26  34  30  83\n",
      "  48  33  25  32  76  47  83  13  44   6  44  60   5  52  34   6  41  55\n",
      "  10  77  86  57  99  39  40  27  26  73  69  60  13   8  39  72  80  17\n",
      "  72  85  37  95  47  98  13  98  78  37  81  62  60  69  12   9   3   4\n",
      "  23  29   4  15  17  42   4   4  66  10  23  14 100  66  17  10  68  63\n",
      "  56  96  18  51  97  82  30  89  41  81  23  65  25  55   3   5  84  97\n",
      "  91  76   8  36  73  47  71  18  19  92   8  67  77  72   7  39  89  77\n",
      "   4  58  67  37  76  31  66  54  13  93  30  12  23   7  88  12  35  54\n",
      "  81  78  29  98  53  92  66  34  92  21   3  23  52  90  19  49  29  87\n",
      "  64  28  53  81  77  54   1  29  96  89  28  27  36  28  68  60  70  71\n",
      "  24  41  93  11  23  83  95  92  34  38  68  80  79  20  11  50  18  55\n",
      "  55  25  74  99  86  71  58  41  81  85   9  18  10  99  35  57  94  81\n",
      "  88  38  77  35   6  57  56  91  21  43  41  21  52  39  78  83  66  80\n",
      "  51  30  66  92 100  82  32  47  40  23  99  50  25  33  73  91  65  45\n",
      "  23  13  89  24   8  90  40   2  24  43  82  85  49  57  30  20  40  64\n",
      "  98  84  82  48   9  65  87  49  13  93  48  84  81  73  20  99  42  57\n",
      "  23  90  35  54  10  93  47  91  88  93  71  91  79  39  17  81  58  52\n",
      "   4  80  15  74  92  70  99  44  86  20  29   7  64  98  98  31  88  26\n",
      "  67  30  47  55  60  53  23  85  15  92  99  64   9   6  77  29  58  14\n",
      "  42  75  54  90  77  65  55 100   1  25  67  98  53  60  39  68  20  10\n",
      "  54   8  27  12  48  61  51   6  20  57  58  56  61  38  46  86  58  41\n",
      "  78  83   5  53  36  67  76  76   4  54  10  53  46   3  55  49  46   2\n",
      "  86  10  50  52   8  62  83  84  12  55  58  48  39   2  72  14  14  48\n",
      "   3  49  66  59  83  78  27  80  19  75  32  79  63  18  86  50  18 100\n",
      "  47   9  47  21  26  44  39  23  19  76  76   7  75  29  18  72  11  12\n",
      "  81   5  32  99   2  38  24  60  23  71   8  63  63   9  63  31  35  65\n",
      "  44  74  91  70  59   5  60  69  74  48  42  83   5  28 100  94  81  56\n",
      "  84  49  34   8   9  23  11  14  45  50  20  80  84  15  75  27  93  49\n",
      "  66  82  67  80  98  54   1  76  90  22  24  27  69  42  57  68  92  40\n",
      "  47  97  78   4  63  52  53  63  46  51]\n",
      "Top 10 most frequently occurring values:\n",
      "23: 22 occurrences\n",
      "55: 17 occurrences\n",
      "81: 16 occurrences\n",
      "80: 15 occurrences\n",
      "48: 15 occurrences\n",
      "58: 14 occurrences\n",
      "54: 14 occurrences\n",
      "77: 14 occurrences\n",
      "35: 14 occurrences\n",
      "12: 14 occurrences\n"
     ]
    }
   ],
   "source": [
    "random_array = np.random.randint(1, 101, size=1000)\n",
    "print(random_array)\n",
    "\n",
    "unique_values, counts = np.unique(random_array, return_counts=True)\n",
    "sorted_indices = np.argsort(-counts)\n",
    "sorted_values = unique_values[sorted_indices]\n",
    "sorted_counts = counts[sorted_indices]\n",
    "\n",
    "print(\"Top 10 most frequently occurring values:\")\n",
    "for i in range(10):\n",
    "    print(f\"{sorted_values[i]}: {sorted_counts[i]} occurrences\")\n"
   ]
  },
  {
   "cell_type": "markdown",
   "id": "9f030a86",
   "metadata": {},
   "source": [
    "#### Explanation\n",
    "1) Creating a NumPy array with random integers between 1 and 100\n",
    "2) Use NumPy's unique function to get unique values and their counts\n",
    "3) Sort the unique values based on their counts in descending order\n",
    "4) Displayed the top 10 most frequently occurring values"
   ]
  }
 ],
 "metadata": {
  "kernelspec": {
   "display_name": "Python 3 (ipykernel)",
   "language": "python",
   "name": "python3"
  },
  "language_info": {
   "codemirror_mode": {
    "name": "ipython",
    "version": 3
   },
   "file_extension": ".py",
   "mimetype": "text/x-python",
   "name": "python",
   "nbconvert_exporter": "python",
   "pygments_lexer": "ipython3",
   "version": "3.11.5"
  }
 },
 "nbformat": 4,
 "nbformat_minor": 5
}
